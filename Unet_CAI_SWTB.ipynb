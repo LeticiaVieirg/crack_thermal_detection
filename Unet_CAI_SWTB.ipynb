{
  "cells": [
    {
      "cell_type": "markdown",
      "metadata": {
        "id": "view-in-github",
        "colab_type": "text"
      },
      "source": [
        "<a href=\"https://colab.research.google.com/github/LeticiaVieirg/crack_thermal_detection/blob/main/Unet_CAI_SWTB.ipynb\" target=\"_parent\"><img src=\"https://colab.research.google.com/assets/colab-badge.svg\" alt=\"Open In Colab\"/></a>"
      ]
    },
    {
      "cell_type": "markdown",
      "source": [
        "importing necessary libraries"
      ],
      "metadata": {
        "id": "TcUDN3fSs70k"
      }
    },
    {
      "cell_type": "code",
      "source": [
        "import tensorflow as tf\n",
        "import numpy as np\n",
        "import os\n",
        "import cv2\n",
        "import matplotlib.pyplot as plt\n",
        "\n",
        "from sklearn.cluster import KMeans\n",
        "from tensorflow.keras.applications import MobileNetV2\n",
        "from tensorflow.keras.layers import Conv2D, UpSampling2D, Concatenate, Input\n",
        "from tensorflow.keras.models import Model\n",
        "from tensorflow.keras.losses import binary_crossentropy\n",
        "from sklearn.metrics import f1_score, precision_score, recall_score, accuracy_score, log_loss\n",
        "from tensorflow.keras.layers import Input, Conv2D, MaxPooling2D, UpSampling2D, concatenate, Dropout\n",
        "from google.colab import drive\n",
        "from tensorflow.keras.metrics import MeanIoU\n",
        "from tensorflow.keras.preprocessing.image import load_img, img_to_array"
      ],
      "metadata": {
        "id": "G5sbkNI-s8Vu"
      },
      "execution_count": 1,
      "outputs": []
    },
    {
      "cell_type": "markdown",
      "source": [
        "Acess dataset"
      ],
      "metadata": {
        "id": "UnB4lCWztHXo"
      }
    },
    {
      "cell_type": "code",
      "source": [
        "# Montando o Google Drive para acessar o dataset\n",
        "drive.mount('/content/drive')"
      ],
      "metadata": {
        "colab": {
          "base_uri": "https://localhost:8080/"
        },
        "id": "PeoMZk9utJGm",
        "outputId": "0fd9daeb-2e23-4d47-d9a1-7d522de1300a"
      },
      "execution_count": 2,
      "outputs": [
        {
          "output_type": "stream",
          "name": "stdout",
          "text": [
            "Mounted at /content/drive\n"
          ]
        }
      ]
    },
    {
      "cell_type": "code",
      "source": [
        "DATASET_DIR = '/content/drive/Shareddrives/Letícia Vieira Gonçalves - Pesquisa/dataset/CAI-SWTB-Dataset/Test/Test'\n",
        "OUTPUT_DIR = '/content/drive/Shareddrives/Letícia Vieira Gonçalves - Pesquisa/dataset/CAI-SWTB-Dataset/Test/Test/segmented_dataset_unet/'\n",
        "os.makedirs(os.path.join(OUTPUT_DIR, 'segmentadas_faulty'), exist_ok=True)\n",
        "os.makedirs(os.path.join(OUTPUT_DIR, 'segmentadas_healthy'), exist_ok=True)"
      ],
      "metadata": {
        "id": "qnJfK3LqtXXB"
      },
      "execution_count": 3,
      "outputs": []
    },
    {
      "cell_type": "markdown",
      "source": [
        "Inicialization unet model"
      ],
      "metadata": {
        "id": "7Nd8Z106y-IY"
      }
    },
    {
      "cell_type": "code",
      "source": [
        "# Função para carregar imagens e máscaras\n",
        "def load_images_and_masks(image_dir, mask_dir=None, target_size=(128, 128)):\n",
        "    image_paths = sorted([os.path.join(image_dir, fname) for fname in os.listdir(image_dir) if fname.endswith(('.png', '.jpg', '.jpeg'))])\n",
        "    images = [img_to_array(load_img(img_path, target_size=target_size)) / 255.0 for img_path in image_paths]\n",
        "\n",
        "    if mask_dir:\n",
        "        mask_paths = sorted([os.path.join(mask_dir, fname) for fname in os.listdir(mask_dir) if fname.endswith(('.png', '.jpg', '.jpeg'))])\n",
        "        masks = [img_to_array(load_img(mask_path, target_size=target_size, color_mode='grayscale')) / 255.0 for mask_path in mask_paths]\n",
        "        return np.array(images), np.array(masks)\n",
        "\n",
        "    return np.array(images), None\n",
        "\n",
        "# Diretórios das imagens positivas e negativas\n",
        "POSITIVE_IMAGE_DIR = os.path.join(DATASET_DIR, 'Faulty')\n",
        "POSITIVE_MASK_DIR = os.path.join(DATASET_DIR, 'positivas/masks')\n",
        "NEGATIVE_IMAGE_DIR = os.path.join(DATASET_DIR, 'Healthy')\n"
      ],
      "metadata": {
        "id": "C13O3TuWy-qo"
      },
      "execution_count": 5,
      "outputs": []
    },
    {
      "cell_type": "markdown",
      "source": [
        "Load the images and masck"
      ],
      "metadata": {
        "id": "uzHhClqozDJI"
      }
    },
    {
      "cell_type": "code",
      "source": [
        "# Definindo o modelo U-Net\n",
        "def unet_model(input_size=(128, 128, 3)):\n",
        "    inputs = Input(input_size)\n",
        "\n",
        "    # Encoder\n",
        "    conv1 = Conv2D(64, (3, 3), activation='relu', padding='same')(inputs)\n",
        "    conv1 = Conv2D(64, (3, 3), activation='relu', padding='same')(conv1)\n",
        "    pool1 = MaxPooling2D(pool_size=(2, 2))(conv1)\n",
        "\n",
        "    conv2 = Conv2D(128, (3, 3), activation='relu', padding='same')(pool1)\n",
        "    conv2 = Conv2D(128, (3, 3), activation='relu', padding='same')(conv2)\n",
        "    pool2 = MaxPooling2D(pool_size=(2, 2))(conv2)\n",
        "\n",
        "    conv3 = Conv2D(256, (3, 3), activation='relu', padding='same')(pool2)\n",
        "    conv3 = Conv2D(256, (3, 3), activation='relu', padding='same')(conv3)\n",
        "    pool3 = MaxPooling2D(pool_size=(2, 2))(conv3)\n",
        "\n",
        "    # Bottleneck\n",
        "    conv4 = Conv2D(512, (3, 3), activation='relu', padding='same')(pool3)\n",
        "    conv4 = Conv2D(512, (3, 3), activation='relu', padding='same')(conv4)\n",
        "    drop4 = Dropout(0.5)(conv4)\n",
        "\n",
        "    # Decoder\n",
        "    up7 = UpSampling2D(size=(2, 2))(drop4)\n",
        "    merge7 = concatenate([conv3, up7], axis=3)\n",
        "    conv7 = Conv2D(256, (3, 3), activation='relu', padding='same')(merge7)\n",
        "    conv7 = Conv2D(256, (3, 3), activation='relu', padding='same')(conv7)\n",
        "\n",
        "    up8 = UpSampling2D(size=(2, 2))(conv7)\n",
        "    merge8 = concatenate([conv2, up8], axis=3)\n",
        "    conv8 = Conv2D(128, (3, 3), activation='relu', padding='same')(merge8)\n",
        "    conv8 = Conv2D(128, (3, 3), activation='relu', padding='same')(conv8)\n",
        "\n",
        "    up9 = UpSampling2D(size=(2, 2))(conv8)\n",
        "    merge9 = concatenate([conv1, up9], axis=3)\n",
        "    conv9 = Conv2D(64, (3, 3), activation='relu', padding='same')(merge9)\n",
        "    conv9 = Conv2D(64, (3, 3), activation='relu', padding='same')(conv9)\n",
        "    conv9 = Conv2D(1, (1, 1), activation='sigmoid')(conv9)\n",
        "\n",
        "    model = Model(inputs, conv9)\n",
        "    return model"
      ],
      "metadata": {
        "id": "Sm18N7HozJAO"
      },
      "execution_count": 6,
      "outputs": []
    },
    {
      "cell_type": "code",
      "source": [
        "DATASET_DIR = '/content/drive/Shareddrives/Letícia Vieira Gonçalves - Pesquisa/dataset/CAI-SWTB-Dataset/Test/Test'\n",
        "\n",
        "# Verifique os diretórios\n",
        "POSITIVE_IMAGE_DIR = os.path.join(DATASET_DIR, '/content/drive/Shareddrives/Letícia Vieira Gonçalves - Pesquisa/dataset/CAI-SWTB-Dataset/Test/Test/Healthy')\n",
        "POSITIVE_MASK_DIR = os.path.join(DATASET_DIR, '/content/drive/MyDrive/dataset/dataset/segmented_dataset_unet')\n",
        "NEGATIVE_IMAGE_DIR = os.path.join(DATASET_DIR, '/content/drive/Shareddrives/Letícia Vieira Gonçalves - Pesquisa/dataset/CAI-SWTB-Dataset/Test/Test/Faulty')\n",
        "\n",
        "# Confirme se os diretórios existem\n",
        "assert os.path.exists(POSITIVE_IMAGE_DIR), f\"Diretório não encontrado: {POSITIVE_IMAGE_DIR}\"\n",
        "assert os.path.exists(POSITIVE_MASK_DIR), f\"Diretório não encontrado: {POSITIVE_MASK_DIR}\"\n",
        "assert os.path.exists(NEGATIVE_IMAGE_DIR), f\"Diretório não encontrado: {NEGATIVE_IMAGE_DIR}\"\n",
        "\n",
        "# Carregando imagens e máscaras\n",
        "positive_images, positive_masks = load_images_and_masks(POSITIVE_IMAGE_DIR, POSITIVE_MASK_DIR)\n",
        "negative_images, _ = load_images_and_masks(NEGATIVE_IMAGE_DIR)"
      ],
      "metadata": {
        "id": "vRmQsoQ_zM4P"
      },
      "execution_count": 7,
      "outputs": []
    },
    {
      "cell_type": "markdown",
      "source": [
        "Iniciar treinamento"
      ],
      "metadata": {
        "id": "vJJlOA2bzx1L"
      }
    },
    {
      "cell_type": "code",
      "source": [
        "if positive_masks is None or len(positive_masks) == 0:\n",
        "    print(\"Máscaras não carregadas corretamente. Usando máscaras fictícias.\")\n",
        "    positive_masks = np.zeros((len(positive_images), 128, 128, 1))"
      ],
      "metadata": {
        "colab": {
          "base_uri": "https://localhost:8080/"
        },
        "id": "vTksewuBz1aC",
        "outputId": "79a04609-d3b6-49dd-f525-5473f921204e"
      },
      "execution_count": 8,
      "outputs": [
        {
          "output_type": "stream",
          "name": "stdout",
          "text": [
            "Máscaras não carregadas corretamente. Usando máscaras fictícias.\n"
          ]
        }
      ]
    },
    {
      "cell_type": "code",
      "source": [
        "print(f\"Número de imagens: {len(positive_images)}\")\n",
        "print(f\"Número de máscaras: {len(positive_masks)}\")"
      ],
      "metadata": {
        "colab": {
          "base_uri": "https://localhost:8080/"
        },
        "id": "4BMZDMTcz91K",
        "outputId": "911131cc-c665-40ad-dda4-787f548d94fd"
      },
      "execution_count": 9,
      "outputs": [
        {
          "output_type": "stream",
          "name": "stdout",
          "text": [
            "Número de imagens: 600\n",
            "Número de máscaras: 600\n"
          ]
        }
      ]
    },
    {
      "cell_type": "code",
      "source": [
        "def load_images_and_masks(image_dir, mask_dir=None, target_size=(128, 128)):\n",
        "    image_paths = sorted([os.path.join(image_dir, fname) for fname in os.listdir(image_dir) if fname.endswith(('.png', '.jpg', '.jpeg'))])\n",
        "    images = [img_to_array(load_img(img_path, target_size=target_size)) / 255.0 for img_path in image_paths]\n",
        "\n",
        "    if mask_dir:\n",
        "        mask_paths = sorted([os.path.join(mask_dir, fname) for fname in os.listdir(mask_dir) if fname.endswith(('.png', '.jpg', '.jpeg'))])\n",
        "        if len(image_paths) != len(mask_paths):\n",
        "            raise ValueError(f\"Imagens e máscaras não correspondem! Imagens: {len(image_paths)}, Máscaras: {len(mask_paths)}\")\n",
        "        masks = [img_to_array(load_img(mask_path, target_size=target_size, color_mode='grayscale')) / 255.0 for mask_path in mask_paths]\n",
        "        return np.array(images), np.array(masks)\n",
        "\n",
        "    return np.array(images), None\n"
      ],
      "metadata": {
        "id": "qXy9kvbA0CVv"
      },
      "execution_count": 10,
      "outputs": []
    },
    {
      "cell_type": "code",
      "source": [
        "#inicializando o modelo u-net\n",
        "unet=unet_model()\n",
        "unet.compile(optimizer='adam', loss='binary_crossentropy', metrics=['accuracy'])\n",
        "\n",
        "history = unet.fit(positive_images, positive_masks, validation_split=0.2, epochs=10, batch_size=16)"
      ],
      "metadata": {
        "colab": {
          "base_uri": "https://localhost:8080/"
        },
        "collapsed": true,
        "id": "9KsMrcRl0E9l",
        "outputId": "d2335d97-271a-41f3-fc26-07a619690515"
      },
      "execution_count": 11,
      "outputs": [
        {
          "output_type": "stream",
          "name": "stdout",
          "text": [
            "Epoch 1/10\n",
            "\u001b[1m30/30\u001b[0m \u001b[32m━━━━━━━━━━━━━━━━━━━━\u001b[0m\u001b[37m\u001b[0m \u001b[1m769s\u001b[0m 25s/step - accuracy: 0.9959 - loss: 0.1255 - val_accuracy: 1.0000 - val_loss: 0.0000e+00\n",
            "Epoch 2/10\n",
            "\u001b[1m30/30\u001b[0m \u001b[32m━━━━━━━━━━━━━━━━━━━━\u001b[0m\u001b[37m\u001b[0m \u001b[1m770s\u001b[0m 24s/step - accuracy: 1.0000 - loss: 0.0000e+00 - val_accuracy: 1.0000 - val_loss: 0.0000e+00\n",
            "Epoch 3/10\n",
            "\u001b[1m30/30\u001b[0m \u001b[32m━━━━━━━━━━━━━━━━━━━━\u001b[0m\u001b[37m\u001b[0m \u001b[1m774s\u001b[0m 26s/step - accuracy: 1.0000 - loss: 0.0000e+00 - val_accuracy: 1.0000 - val_loss: 0.0000e+00\n",
            "Epoch 4/10\n",
            "\u001b[1m30/30\u001b[0m \u001b[32m━━━━━━━━━━━━━━━━━━━━\u001b[0m\u001b[37m\u001b[0m \u001b[1m794s\u001b[0m 25s/step - accuracy: 1.0000 - loss: 0.0000e+00 - val_accuracy: 1.0000 - val_loss: 0.0000e+00\n",
            "Epoch 5/10\n",
            "\u001b[1m30/30\u001b[0m \u001b[32m━━━━━━━━━━━━━━━━━━━━\u001b[0m\u001b[37m\u001b[0m \u001b[1m803s\u001b[0m 25s/step - accuracy: 1.0000 - loss: 0.0000e+00 - val_accuracy: 1.0000 - val_loss: 0.0000e+00\n",
            "Epoch 6/10\n",
            "\u001b[1m30/30\u001b[0m \u001b[32m━━━━━━━━━━━━━━━━━━━━\u001b[0m\u001b[37m\u001b[0m \u001b[1m765s\u001b[0m 24s/step - accuracy: 1.0000 - loss: 0.0000e+00 - val_accuracy: 1.0000 - val_loss: 0.0000e+00\n",
            "Epoch 7/10\n",
            "\u001b[1m30/30\u001b[0m \u001b[32m━━━━━━━━━━━━━━━━━━━━\u001b[0m\u001b[37m\u001b[0m \u001b[1m720s\u001b[0m 24s/step - accuracy: 1.0000 - loss: 0.0000e+00 - val_accuracy: 1.0000 - val_loss: 0.0000e+00\n",
            "Epoch 8/10\n",
            "\u001b[1m30/30\u001b[0m \u001b[32m━━━━━━━━━━━━━━━━━━━━\u001b[0m\u001b[37m\u001b[0m \u001b[1m777s\u001b[0m 25s/step - accuracy: 1.0000 - loss: 0.0000e+00 - val_accuracy: 1.0000 - val_loss: 0.0000e+00\n",
            "Epoch 9/10\n",
            "\u001b[1m30/30\u001b[0m \u001b[32m━━━━━━━━━━━━━━━━━━━━\u001b[0m\u001b[37m\u001b[0m \u001b[1m801s\u001b[0m 25s/step - accuracy: 1.0000 - loss: 0.0000e+00 - val_accuracy: 1.0000 - val_loss: 0.0000e+00\n",
            "Epoch 10/10\n",
            "\u001b[1m30/30\u001b[0m \u001b[32m━━━━━━━━━━━━━━━━━━━━\u001b[0m\u001b[37m\u001b[0m \u001b[1m802s\u001b[0m 25s/step - accuracy: 1.0000 - loss: 0.0000e+00 - val_accuracy: 1.0000 - val_loss: 0.0000e+00\n"
          ]
        }
      ]
    },
    {
      "cell_type": "code",
      "source": [
        "# Função para calcular IoU\n",
        "def calculate_iou(y_true, y_pred):\n",
        "    # Converte as predições para binário (threshold = 0.5)\n",
        "    y_pred = (y_pred > 0.5).astype(np.uint8)\n",
        "\n",
        "    # Calcula a interseção e união\n",
        "    intersection = np.logical_and(y_true, y_pred).sum()\n",
        "    union = np.logical_or(y_true, y_pred).sum()\n",
        "\n",
        "    # Evita divisão por zero\n",
        "    if union == 0:\n",
        "        return 0.0\n",
        "    else:\n",
        "        return intersection / union\n",
        "\n",
        "# Obter predições do modelo nas imagens de validação\n",
        "y_pred = unet.predict(positive_images)  # Gera predições para as imagens\n",
        "\n",
        "# Calcular IoU médio\n",
        "iou_scores = [calculate_iou(positive_masks[i], y_pred[i]) for i in range(len(positive_masks))]\n",
        "mean_iou = np.mean(iou_scores)\n",
        "\n",
        "print(f\"IoU médio: {mean_iou:.4f}\")\n"
      ],
      "metadata": {
        "colab": {
          "base_uri": "https://localhost:8080/"
        },
        "collapsed": true,
        "id": "tWwNJv2r1CVS",
        "outputId": "4cb3fecb-cd33-413a-ad8f-282081d81960"
      },
      "execution_count": 12,
      "outputs": [
        {
          "output_type": "stream",
          "name": "stdout",
          "text": [
            "\u001b[1m19/19\u001b[0m \u001b[32m━━━━━━━━━━━━━━━━━━━━\u001b[0m\u001b[37m\u001b[0m \u001b[1m251s\u001b[0m 13s/step\n",
            "IoU médio: 0.0000\n"
          ]
        }
      ]
    },
    {
      "cell_type": "code",
      "source": [
        "input_directory = \"/content/drive/Shareddrives/Letícia Vieira Gonçalves - Pesquisa/dataset/CAI-SWTB-Dataset/Test/Test/Faulty\"\n",
        "output_directory = \"/content/drive/MyDrive/dataset/dataset/segmented_dataset_unet/segmentadas_faulty\"\n",
        "total_images_to_segment = 5  # Número máximo de imagens para segmentação\n",
        "\n",
        "# Criar diretório de saída se não existir\n",
        "if not os.path.exists(output_directory):\n",
        "    os.makedirs(output_directory)\n",
        "\n",
        "# Verifica se a pasta de imagens não está vazia\n",
        "image_files = sorted(os.listdir(input_directory))\n",
        "if not image_files:\n",
        "    print(\" ERRO: Nenhuma imagem encontrada no diretório de entrada!\")\n",
        "else:\n",
        "    print(f\" {len(image_files)} Images found.\")\n",
        "\n",
        "# Função para segmentação de imagens\n",
        "def segment_image(image_path, model):\n",
        "    \"\"\"\n",
        "    Realiza a segmentação de uma imagem usando o modelo treinado.\n",
        "\n",
        "    Args:\n",
        "        image_path (str): Caminho da imagem de entrada.\n",
        "        model (keras.Model): Modelo U-Net carregado.\n",
        "\n",
        "    Returns:\n",
        "        np.array: Máscara segmentada.\n",
        "    \"\"\"\n",
        "    img = cv2.imread(image_path)\n",
        "\n",
        "    if img is None:\n",
        "      print(f\" ERRO: Falha ao carregar {image_path}\")\n",
        "      return None\n",
        "\n",
        "    img = cv2.resize(img, (128, 128))  # Ajuste conforme o input do seu modelo\n",
        "    img = img / 255.0  # Normalização\n",
        "    y_pred = model.predict(np.expand_dims(img, axis=0))  # Predição\n",
        "    return y_pred[0]\n",
        "\n",
        "# Processamento das imagens\n",
        "image_files = sorted(os.listdir(input_directory))\n",
        "\n",
        "for i, image_name in enumerate(image_files):\n",
        "    if i >= total_images_to_segment:\n",
        "        break\n",
        "\n",
        "    image_path = os.path.join(input_directory, image_name)\n",
        "\n",
        "    if os.path.exists(image_path):\n",
        "        pred_mask = segment_image(image_path, unet)  # Chama a segmentação\n",
        "\n",
        "        if pred_mask is not None:  # Só salva se a predição for válida\n",
        "            mask_binary = (pred_mask > 0.5).astype(np.uint8) * 255\n",
        "            mask_name = f'{image_name.split(\".\")[0]}_mask.jpg'\n",
        "            mask_path = os.path.join(output_directory, mask_name)\n",
        "            cv2.imwrite(mask_path, mask_binary)\n",
        "            print(f\" Save segmented: {mask_path}\")\n"
      ],
      "metadata": {
        "colab": {
          "base_uri": "https://localhost:8080/"
        },
        "id": "tG72fTow8MbY",
        "outputId": "e4d3f443-106d-4c5a-bd13-3bc66754c104"
      },
      "execution_count": 13,
      "outputs": [
        {
          "output_type": "stream",
          "name": "stdout",
          "text": [
            " 601 Images found.\n",
            "\u001b[1m1/1\u001b[0m \u001b[32m━━━━━━━━━━━━━━━━━━━━\u001b[0m\u001b[37m\u001b[0m \u001b[1m0s\u001b[0m 381ms/step\n",
            " Save segmented: /content/drive/MyDrive/dataset/dataset/segmented_dataset_unet/segmentadas_faulty/Areial_Faulty1_mask.jpg\n",
            "\u001b[1m1/1\u001b[0m \u001b[32m━━━━━━━━━━━━━━━━━━━━\u001b[0m\u001b[37m\u001b[0m \u001b[1m0s\u001b[0m 399ms/step\n",
            " Save segmented: /content/drive/MyDrive/dataset/dataset/segmented_dataset_unet/segmentadas_faulty/Areial_Faulty100_mask.jpg\n",
            "\u001b[1m1/1\u001b[0m \u001b[32m━━━━━━━━━━━━━━━━━━━━\u001b[0m\u001b[37m\u001b[0m \u001b[1m0s\u001b[0m 385ms/step\n",
            " Save segmented: /content/drive/MyDrive/dataset/dataset/segmented_dataset_unet/segmentadas_faulty/Areial_Faulty105_mask.jpg\n",
            "\u001b[1m1/1\u001b[0m \u001b[32m━━━━━━━━━━━━━━━━━━━━\u001b[0m\u001b[37m\u001b[0m \u001b[1m0s\u001b[0m 368ms/step\n",
            " Save segmented: /content/drive/MyDrive/dataset/dataset/segmented_dataset_unet/segmentadas_faulty/Areial_Faulty109_mask.jpg\n",
            "\u001b[1m1/1\u001b[0m \u001b[32m━━━━━━━━━━━━━━━━━━━━\u001b[0m\u001b[37m\u001b[0m \u001b[1m0s\u001b[0m 372ms/step\n",
            " Save segmented: /content/drive/MyDrive/dataset/dataset/segmented_dataset_unet/segmentadas_faulty/Areial_Faulty11_mask.jpg\n"
          ]
        }
      ]
    },
    {
      "cell_type": "code",
      "source": [
        "\n",
        "# Definir parâmetros\n",
        "n = 4  # Número de imagens para exibição\n",
        "input_folder = \"/content/drive/Shareddrives/Letícia Vieira Gonçalves - Pesquisa/dataset/CAI-SWTB-Dataset/Test/Test/Faulty\"\n",
        "output_folder = \"/content/drive/Shareddrives/Letícia Vieira Gonçalves - Pesquisa/dataset/CAI-SWTB-Dataset/Test/Test/segmented_dataset_unet/segmentadas_faulty\"\n",
        "\n",
        "# Criar a figura\n",
        "fig, axs = plt.subplots(2, n, figsize=(12, 6))\n",
        "fig.suptitle('Imagens originais e segmentadas', fontsize=18, y=0.95)\n",
        "\n",
        "for i in range(n):\n",
        "    img_path = os.path.join(input_folder, f'FLIR181{i+5}.jpg')\n",
        "\n",
        "    # Verificar se a imagem original existe\n",
        "    if not os.path.exists(img_path):\n",
        "        print(f\" ERRO: Imagem {img_path} não encontrada!\")\n",
        "        continue\n",
        "\n",
        "    # Carregar e converter a imagem\n",
        "    image = cv2.imread(img_path)\n",
        "    if image is None:\n",
        "        print(f\" ERRO ao carregar {img_path}\")\n",
        "        continue\n",
        "\n",
        "    image = cv2.cvtColor(image, cv2.COLOR_BGR2RGB)\n",
        "\n",
        "    # Redimensionar para manter o desempenho\n",
        "    image_resized = cv2.resize(image, (image.shape[1]//1, image.shape[0]//1))\n",
        "\n",
        "    # Converter para formato adequado para clustering\n",
        "    image_data = image_resized.reshape((-1, 3))\n",
        "\n",
        "    # Aplicar K-means clustering\n",
        "    kmeans = KMeans(n_clusters=2, random_state=256, n_init=10)\n",
        "    kmeans.fit(image_data)\n",
        "\n",
        "    # Criar a máscara binária\n",
        "    mask = kmeans.labels_.reshape(image_resized.shape[:2])\n",
        "\n",
        "    # Exibir imagem original\n",
        "    axs[0, i].imshow(image)\n",
        "    axs[0, i].axis('off')\n",
        "\n",
        "    # Exibir máscara segmentada\n",
        "    axs[1, i].imshow(mask, cmap='gray')\n",
        "    axs[1, i].axis('off')\n",
        "\n",
        "plt.tight_layout()\n",
        "plt.show()"
      ],
      "metadata": {
        "colab": {
          "base_uri": "https://localhost:8080/",
          "height": 506
        },
        "id": "gBtlkO-28Y6r",
        "outputId": "781091d5-4817-4157-9f86-4e83f0c2f004"
      },
      "execution_count": 14,
      "outputs": [
        {
          "output_type": "stream",
          "name": "stdout",
          "text": [
            " ERRO: Imagem /content/drive/Shareddrives/Letícia Vieira Gonçalves - Pesquisa/dataset/CAI-SWTB-Dataset/Test/Test/Faulty/FLIR1815.jpg não encontrada!\n",
            " ERRO: Imagem /content/drive/Shareddrives/Letícia Vieira Gonçalves - Pesquisa/dataset/CAI-SWTB-Dataset/Test/Test/Faulty/FLIR1816.jpg não encontrada!\n",
            " ERRO: Imagem /content/drive/Shareddrives/Letícia Vieira Gonçalves - Pesquisa/dataset/CAI-SWTB-Dataset/Test/Test/Faulty/FLIR1817.jpg não encontrada!\n",
            " ERRO: Imagem /content/drive/Shareddrives/Letícia Vieira Gonçalves - Pesquisa/dataset/CAI-SWTB-Dataset/Test/Test/Faulty/FLIR1818.jpg não encontrada!\n"
          ]
        },
        {
          "output_type": "display_data",
          "data": {
            "text/plain": [
              "<Figure size 1200x600 with 8 Axes>"
            ],
            "image/png": "[encoded data removed]"
          },
          "metadata": {}
        }
      ]
    },
    {
      "cell_type": "code",
      "source": [
        "\n",
        "import os\n",
        "import cv2\n",
        "import numpy as np\n",
        "from sklearn.cluster import KMeans\n",
        "import matplotlib.pyplot as plt"
      ],
      "metadata": {
        "id": "aDdeb0YcSxC9"
      },
      "execution_count": 15,
      "outputs": []
    },
    {
      "cell_type": "code",
      "source": [
        "\n",
        "input_folder = \"/content/drive/Shareddrives/Letícia Vieira Gonçalves - Pesquisa/dataset/CAI-SWTB-Dataset/Test/Test/Faulty\"\n",
        "output_folder = \"/content/drive/Shareddrives/Letícia Vieira Gonçalves - Pesquisa/dataset/CAI-SWTB-Dataset/Test/Test/segmented_dataset_unet/segmentadas_faulty\"\n",
        "\n",
        "# Criar a pasta de saída se não existir\n",
        "os.makedirs(output_folder, exist_ok=True)\n",
        "\n",
        "# Processar todas as imagens na pasta de entrada\n",
        "for filename in os.listdir(input_folder):\n",
        "    if filename.lower().endswith(('.png', '.jpg', '.jpeg')):  # Filtrar imagens\n",
        "        image_path = os.path.join(input_folder, filename)\n",
        "\n",
        "        # Carregar imagem\n",
        "        image = cv2.imread(image_path)\n",
        "        if image is None:\n",
        "            continue  # Ignorar arquivos inválidos\n",
        "\n",
        "        image = cv2.cvtColor(image, cv2.COLOR_BGR2RGB)\n",
        "\n",
        "        # Redimensionar para manter o desempenho\n",
        "        image_resized = cv2.resize(image, (image.shape[1] // 1, image.shape[0] // 1))\n",
        "\n",
        "        # Converter para o formato adequado para clustering\n",
        "        image_data = image_resized.reshape((-1, 3))\n",
        "\n",
        "        # Aplicar K-means clustering\n",
        "        kmeans = KMeans(n_clusters=2, random_state=256, n_init=10)\n",
        "        kmeans.fit(image_data)\n",
        "\n",
        "        # Criar a máscara binária\n",
        "        mask = kmeans.labels_.reshape(image_resized.shape[:2])\n",
        "\n",
        "        # Salvar a máscara como imagem\n",
        "        output_path = os.path.join(output_folder, f\"segmented_{filename}\")\n",
        "        cv2.imwrite(output_path, (mask * 255).astype(np.uint8))\n",
        "\n",
        "print(\"Processamento concluído! As imagens segmentadas foram salvas.\")"
      ],
      "metadata": {
        "colab": {
          "base_uri": "https://localhost:8080/"
        },
        "id": "jhVfdbQNS1yk",
        "outputId": "1ea9f5ed-3cc6-4336-91ee-3bfca895bed3"
      },
      "execution_count": 16,
      "outputs": [
        {
          "output_type": "stream",
          "name": "stdout",
          "text": [
            "Processamento concluído! As imagens segmentadas foram salvas.\n"
          ]
        }
      ]
    },
    {
      "cell_type": "markdown",
      "source": [
        "Segmentacao em uma imagem"
      ],
      "metadata": {
        "id": "BU4oRAyrTBSP"
      }
    },
    {
      "cell_type": "code",
      "source": [
        "image = cv2.imread ('/content/drive/Shareddrives/Letícia Vieira Gonçalves - Pesquisa/dataset/CAI-SWTB-Dataset/Test/Test/Faulty/Areial_Faulty1.jpg')\n",
        "image = cv2.cvtColor(image, cv2.COLOR_BGR2RGB)\n",
        "\n",
        "# Redimensionar a imagem para reduzir a carga computacional\n",
        "image_resized = cv2.resize(image, (image.shape[1]//1, image.shape[0]//1))\n",
        "\n",
        "# Converter a imagem para o formato de dados para clustering\n",
        "image_data = image_resized.reshape((-1, 3))\n",
        "\n",
        "# Aplicar K-means clustering\n",
        "kmeans = KMeans(n_clusters=2, random_state=(256))\n",
        "kmeans.fit(image_data)\n",
        "\n",
        "# Criar a máscara binária\n",
        "mask = kmeans.labels_.reshape(image_resized.shape[:2])\n",
        "\n",
        "# Exibir a máscara\n",
        "plt.imshow(mask, cmap='gray')  # Exibe em escala de cinza\n",
        "plt.axis('off')  # Remove os eixos para melhor visualização\n",
        "plt.show()"
      ],
      "metadata": {
        "colab": {
          "base_uri": "https://localhost:8080/",
          "height": 406
        },
        "id": "u50vQ8LTTDR7",
        "outputId": "1981fed7-d811-4e65-a221-428aef1f5717"
      },
      "execution_count": 17,
      "outputs": [
        {
          "output_type": "display_data",
          "data": {
            "text/plain": [
              "<Figure size 640x480 with 1 Axes>"
            ],
            "image/png": "[encoded data removed]"
          },
          "metadata": {}
        }
      ]
    }
  ],
  "metadata": {
    "accelerator": "GPU",
    "colab": {
      "gpuType": "T4",
      "provenance": [],
      "authorship_tag": "ABX9TyOQpxSStLbnsu0ic5rOvHN4",
      "include_colab_link": true
    },
    "kernelspec": {
      "display_name": "Python 3",
      "name": "python3"
    },
    "language_info": {
      "name": "python"
    }
  },
  "nbformat": 4,
  "nbformat_minor": 0
}